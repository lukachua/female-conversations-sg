{
 "cells": [
  {
   "cell_type": "markdown",
   "id": "26c2a2ed",
   "metadata": {},
   "source": [
    "***\n",
    "# 7. Insights & Conclusion\n",
    "***"
   ]
  },
  {
   "cell_type": "markdown",
   "id": "57229500",
   "metadata": {},
   "source": [
    "## Overall Insights"
   ]
  },
  {
   "cell_type": "markdown",
   "id": "609ff600",
   "metadata": {},
   "source": [
    "Topic modelling is an unsupervised machine learning technique and in this project, we attempt to analyse the contents of female-focused conversations by Singapore creators on YouTube using several models. Although BERTopic proved to be the most helpful in providing context, I believe that taking the combined results from all the models and using them to derive overall insights might possibly be the most helpful approach.\n",
    "\n",
    "From the model analyses, here are the topics of concern:\n",
    "\n",
    "- Health\n",
    "\n",
    "    Health is a big concern with the topic being split into two main fields: mental and physical health. Mental health touched on ideas of caring and loving oneself, body image and beauty perspectives (such as shaving). Outward expressions of emotions (sadness, anger etc.) are also referenced. Physical health concerns include polycystic ovary syndrome, sexual reproductive health with the discussion of female anatomy and the various normal symptoms of menstruation, endometriosis syndrome, HPV and pap smear. Other diseases of interest are heart diseases, breast diseases, and cancer. Birth control and their side effects are also a topics of frequent discussion.\n",
    "    \n",
    "\n",
    "- Family Planning\n",
    "\n",
    "    Children are often discussed with regards to family planning and parenting. Egg freezing is also frequently mentioned.\n",
    "\n",
    "\n",
    "- Relationships\n",
    "\n",
    "    Relationships include those with friends, family and partners (spouses and boyfriends). With family, mothers and mothers-in-law are more frequently mentioned than fathers and fathers-in-law. Friends mentioned are often pillars of support.\n",
    "\n",
    "\n",
    "- Conflict Management\n",
    "\n",
    "    Conflicts between family and partners are mentioned along with self-deterministic terms such as 'situation', 'day', 'decision' and 'choice'. Intergenerational differences are also briefly mentioned.\n",
    "\n",
    "\n",
    "- Harassment\n",
    "\n",
    "    Harrassment includes workplace harassment, sexual harassment and discussion around racism, victims, violence and abuse.\n",
    "\n",
    "\n",
    "- Identity\n",
    "\n",
    "    Conversations revolve around Singapore and Southeast Asia region and identity-defining terms such as 'mother', 'single' and 'parent' are frequently used. Visibility and the encouragement of voicing out opinions can also be inferred.\n",
    "\n",
    "\n",
    "- Gratefulness \n",
    "\n",
    "    The gratefulness of having good relationships and happiness for others' successes are frequently expressed during the conversations.\n",
    "\n",
    "\n",
    "- Career\n",
    "\n",
    "    Disussions around career include topics such as entrepreneurship, community, work-life balance, jobs, going digital and working from home.\n",
    "\n",
    "\n",
    "- Finance\n",
    "\n",
    "    Money and cost is closely linked to topics like family planning and career, and possibly also to conflict management."
   ]
  },
  {
   "cell_type": "markdown",
   "id": "2737840d",
   "metadata": {},
   "source": [
    "## Limitations and Future Improvements"
   ]
  },
  {
   "cell_type": "markdown",
   "id": "3cb077e1",
   "metadata": {},
   "source": [
    "Despite the best efforts to tackle the problem statement, some limitations remain in this project:\n",
    "\n",
    "- The size of the data sample is small at 45 hours of speech, especially so after the more impactful words are extracted. The data is also collected from only two YouTube channels due to availability. Future studies can include a bigger sample with data collected from other social media such as podcasts and social media text and image posts.\n",
    "\n",
    "- The speech transcriptions are assumed to be fully accurate but that is not so, especially in the case of the more female-specific terms. Studies have shown that bias is present in AI and machine learning algorithms (source) and an extension of this project could include working on the automatic speech recognition (ASR) models for accuracy taking into account the Singapore English accent and the female-specific keywords. Insights and keywords from this project could be used to optimise the ASR model for better accuracy, which could then be used to improve the results of this project.\n",
    "\n",
    "- The participants of the female-focused conversations in my dataset are mainly those who are in their twenties and thirties. Their opinions are hence unlikely to reflect those of women of all ages in Singapore and hence should only be considered for women of the specific age range."
   ]
  },
  {
   "cell_type": "markdown",
   "id": "2a6758c2",
   "metadata": {},
   "source": [
    "# Conclusion"
   ]
  },
  {
   "cell_type": "markdown",
   "id": "93c6ff96",
   "metadata": {},
   "source": [
    "In this project, I have attempted to give insight to the topics of interests in female-focused video online by local creators using topic modelling techniques of LDA, Top2Vec and BERTopic. My analyses revealed that they have concerns that is common of most urban populations, but discussions around relationships and identity have a more unique Singaporean/Southeast Asian twist to it. In this era of self-expression and gradual liberalisation, the creation of female-focused local content and the perspective shift they represent are invaluable observations of the everyday concerns of young women."
   ]
  }
 ],
 "metadata": {
  "kernelspec": {
   "display_name": "Python 3",
   "language": "python",
   "name": "python3"
  },
  "language_info": {
   "codemirror_mode": {
    "name": "ipython",
    "version": 3
   },
   "file_extension": ".py",
   "mimetype": "text/x-python",
   "name": "python",
   "nbconvert_exporter": "python",
   "pygments_lexer": "ipython3",
   "version": "3.8.8"
  }
 },
 "nbformat": 4,
 "nbformat_minor": 5
}
