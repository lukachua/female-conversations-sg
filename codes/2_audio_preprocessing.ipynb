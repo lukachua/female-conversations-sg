{
 "cells": [
  {
   "cell_type": "markdown",
   "id": "d42f3c43",
   "metadata": {},
   "source": [
    "***\n",
    "# 2. Audio Preprocessing\n",
    "***"
   ]
  },
  {
   "cell_type": "code",
   "execution_count": 1,
   "id": "972f9179",
   "metadata": {},
   "outputs": [],
   "source": [
    "import argparse\n",
    "import glob\n",
    "import os\n",
    "import sys\n",
    "\n",
    "from pydub import AudioSegment"
   ]
  },
  {
   "cell_type": "markdown",
   "id": "4424b7e3",
   "metadata": {},
   "source": [
    "## Preparing audio tracks for upload to Google Cloud Platform (GCP)"
   ]
  },
  {
   "cell_type": "markdown",
   "id": "553c35c0",
   "metadata": {},
   "source": [
    "### Rename tracks"
   ]
  },
  {
   "cell_type": "code",
   "execution_count": 2,
   "id": "099aec97",
   "metadata": {},
   "outputs": [],
   "source": [
    "folder = \"../audio/tracks\""
   ]
  },
  {
   "cell_type": "code",
   "execution_count": 3,
   "id": "63e1651a",
   "metadata": {},
   "outputs": [],
   "source": [
    "# rename audio tracks in folder\n",
    "def main():\n",
    "    \"\"\"function to rename multiple files in directory\"\"\"\n",
    "    for count, filename in enumerate(os.listdir(folder)):\n",
    "        dst = f\"{str(count)}.m4a\"\n",
    "        src = f\"{folder}/{filename}\"  # foldername/filename, if .py file is outside folder\n",
    "        dst = f\"{folder}/{dst}\"\n",
    "         \n",
    "        # rename() function will rename all the files\n",
    "        os.rename(src, dst)\n",
    " \n",
    "# Driver Code\n",
    "if __name__ == '__main__':\n",
    "     \n",
    "    # Calling main() function\n",
    "    main()"
   ]
  },
  {
   "cell_type": "markdown",
   "id": "1c97aeaa",
   "metadata": {},
   "source": [
    "### Convert tracks to wav format"
   ]
  },
  {
   "cell_type": "code",
   "execution_count": 4,
   "id": "34cace44",
   "metadata": {
    "scrolled": true
   },
   "outputs": [
    {
     "name": "stdout",
     "output_type": "stream",
     "text": [
      "CONVERTING: /Users/lukasiwei/Desktop/dsi25-workspace/Projects/capstone_project/audio/tracks/99.m4a\n",
      "CONVERTING: /Users/lukasiwei/Desktop/dsi25-workspace/Projects/capstone_project/audio/tracks/72.m4a\n",
      "CONVERTING: /Users/lukasiwei/Desktop/dsi25-workspace/Projects/capstone_project/audio/tracks/66.m4a\n",
      "CONVERTING: /Users/lukasiwei/Desktop/dsi25-workspace/Projects/capstone_project/audio/tracks/8.m4a\n",
      "CONVERTING: /Users/lukasiwei/Desktop/dsi25-workspace/Projects/capstone_project/audio/tracks/9.m4a\n",
      "CONVERTING: /Users/lukasiwei/Desktop/dsi25-workspace/Projects/capstone_project/audio/tracks/67.m4a\n",
      "CONVERTING: /Users/lukasiwei/Desktop/dsi25-workspace/Projects/capstone_project/audio/tracks/73.m4a\n",
      "CONVERTING: /Users/lukasiwei/Desktop/dsi25-workspace/Projects/capstone_project/audio/tracks/98.m4a\n",
      "CONVERTING: /Users/lukasiwei/Desktop/dsi25-workspace/Projects/capstone_project/audio/tracks/65.m4a\n",
      "CONVERTING: /Users/lukasiwei/Desktop/dsi25-workspace/Projects/capstone_project/audio/tracks/71.m4a\n",
      "CONVERTING: /Users/lukasiwei/Desktop/dsi25-workspace/Projects/capstone_project/audio/tracks/59.m4a\n",
      "CONVERTING: /Users/lukasiwei/Desktop/dsi25-workspace/Projects/capstone_project/audio/tracks/58.m4a\n",
      "CONVERTING: /Users/lukasiwei/Desktop/dsi25-workspace/Projects/capstone_project/audio/tracks/70.m4a\n",
      "CONVERTING: /Users/lukasiwei/Desktop/dsi25-workspace/Projects/capstone_project/audio/tracks/64.m4a\n",
      "CONVERTING: /Users/lukasiwei/Desktop/dsi25-workspace/Projects/capstone_project/audio/tracks/48.m4a\n",
      "CONVERTING: /Users/lukasiwei/Desktop/dsi25-workspace/Projects/capstone_project/audio/tracks/60.m4a\n",
      "CONVERTING: /Users/lukasiwei/Desktop/dsi25-workspace/Projects/capstone_project/audio/tracks/74.m4a\n",
      "CONVERTING: /Users/lukasiwei/Desktop/dsi25-workspace/Projects/capstone_project/audio/tracks/75.m4a\n",
      "CONVERTING: /Users/lukasiwei/Desktop/dsi25-workspace/Projects/capstone_project/audio/tracks/61.m4a\n",
      "CONVERTING: /Users/lukasiwei/Desktop/dsi25-workspace/Projects/capstone_project/audio/tracks/49.m4a\n",
      "CONVERTING: /Users/lukasiwei/Desktop/dsi25-workspace/Projects/capstone_project/audio/tracks/88.m4a\n",
      "CONVERTING: /Users/lukasiwei/Desktop/dsi25-workspace/Projects/capstone_project/audio/tracks/77.m4a\n",
      "CONVERTING: /Users/lukasiwei/Desktop/dsi25-workspace/Projects/capstone_project/audio/tracks/63.m4a\n",
      "CONVERTING: /Users/lukasiwei/Desktop/dsi25-workspace/Projects/capstone_project/audio/tracks/62.m4a\n",
      "CONVERTING: /Users/lukasiwei/Desktop/dsi25-workspace/Projects/capstone_project/audio/tracks/76.m4a\n",
      "CONVERTING: /Users/lukasiwei/Desktop/dsi25-workspace/Projects/capstone_project/audio/tracks/89.m4a\n",
      "CONVERTING: /Users/lukasiwei/Desktop/dsi25-workspace/Projects/capstone_project/audio/tracks/110.m4a\n",
      "CONVERTING: /Users/lukasiwei/Desktop/dsi25-workspace/Projects/capstone_project/audio/tracks/104.m4a\n",
      "CONVERTING: /Users/lukasiwei/Desktop/dsi25-workspace/Projects/capstone_project/audio/tracks/11.m4a\n",
      "CONVERTING: /Users/lukasiwei/Desktop/dsi25-workspace/Projects/capstone_project/audio/tracks/39.m4a\n",
      "CONVERTING: /Users/lukasiwei/Desktop/dsi25-workspace/Projects/capstone_project/audio/tracks/38.m4a\n",
      "CONVERTING: /Users/lukasiwei/Desktop/dsi25-workspace/Projects/capstone_project/audio/tracks/10.m4a\n",
      "CONVERTING: /Users/lukasiwei/Desktop/dsi25-workspace/Projects/capstone_project/audio/tracks/105.m4a\n",
      "CONVERTING: /Users/lukasiwei/Desktop/dsi25-workspace/Projects/capstone_project/audio/tracks/111.m4a\n",
      "CONVERTING: /Users/lukasiwei/Desktop/dsi25-workspace/Projects/capstone_project/audio/tracks/107.m4a\n",
      "CONVERTING: /Users/lukasiwei/Desktop/dsi25-workspace/Projects/capstone_project/audio/tracks/113.m4a\n",
      "CONVERTING: /Users/lukasiwei/Desktop/dsi25-workspace/Projects/capstone_project/audio/tracks/12.m4a\n",
      "CONVERTING: /Users/lukasiwei/Desktop/dsi25-workspace/Projects/capstone_project/audio/tracks/13.m4a\n",
      "CONVERTING: /Users/lukasiwei/Desktop/dsi25-workspace/Projects/capstone_project/audio/tracks/112.m4a\n",
      "CONVERTING: /Users/lukasiwei/Desktop/dsi25-workspace/Projects/capstone_project/audio/tracks/106.m4a\n",
      "CONVERTING: /Users/lukasiwei/Desktop/dsi25-workspace/Projects/capstone_project/audio/tracks/102.m4a\n",
      "CONVERTING: /Users/lukasiwei/Desktop/dsi25-workspace/Projects/capstone_project/audio/tracks/116.m4a\n",
      "CONVERTING: /Users/lukasiwei/Desktop/dsi25-workspace/Projects/capstone_project/audio/tracks/17.m4a\n",
      "CONVERTING: /Users/lukasiwei/Desktop/dsi25-workspace/Projects/capstone_project/audio/tracks/16.m4a\n",
      "CONVERTING: /Users/lukasiwei/Desktop/dsi25-workspace/Projects/capstone_project/audio/tracks/117.m4a\n",
      "CONVERTING: /Users/lukasiwei/Desktop/dsi25-workspace/Projects/capstone_project/audio/tracks/103.m4a\n",
      "CONVERTING: /Users/lukasiwei/Desktop/dsi25-workspace/Projects/capstone_project/audio/tracks/115.m4a\n",
      "CONVERTING: /Users/lukasiwei/Desktop/dsi25-workspace/Projects/capstone_project/audio/tracks/101.m4a\n",
      "CONVERTING: /Users/lukasiwei/Desktop/dsi25-workspace/Projects/capstone_project/audio/tracks/28.m4a\n",
      "CONVERTING: /Users/lukasiwei/Desktop/dsi25-workspace/Projects/capstone_project/audio/tracks/14.m4a\n",
      "CONVERTING: /Users/lukasiwei/Desktop/dsi25-workspace/Projects/capstone_project/audio/tracks/15.m4a\n",
      "CONVERTING: /Users/lukasiwei/Desktop/dsi25-workspace/Projects/capstone_project/audio/tracks/29.m4a\n",
      "CONVERTING: /Users/lukasiwei/Desktop/dsi25-workspace/Projects/capstone_project/audio/tracks/100.m4a\n",
      "CONVERTING: /Users/lukasiwei/Desktop/dsi25-workspace/Projects/capstone_project/audio/tracks/114.m4a\n",
      "CONVERTING: /Users/lukasiwei/Desktop/dsi25-workspace/Projects/capstone_project/audio/tracks/119.m4a\n",
      "CONVERTING: /Users/lukasiwei/Desktop/dsi25-workspace/Projects/capstone_project/audio/tracks/125.m4a\n",
      "CONVERTING: /Users/lukasiwei/Desktop/dsi25-workspace/Projects/capstone_project/audio/tracks/30.m4a\n",
      "CONVERTING: /Users/lukasiwei/Desktop/dsi25-workspace/Projects/capstone_project/audio/tracks/24.m4a\n",
      "CONVERTING: /Users/lukasiwei/Desktop/dsi25-workspace/Projects/capstone_project/audio/tracks/18.m4a\n",
      "CONVERTING: /Users/lukasiwei/Desktop/dsi25-workspace/Projects/capstone_project/audio/tracks/19.m4a\n",
      "CONVERTING: /Users/lukasiwei/Desktop/dsi25-workspace/Projects/capstone_project/audio/tracks/25.m4a\n",
      "CONVERTING: /Users/lukasiwei/Desktop/dsi25-workspace/Projects/capstone_project/audio/tracks/31.m4a\n",
      "CONVERTING: /Users/lukasiwei/Desktop/dsi25-workspace/Projects/capstone_project/audio/tracks/124.m4a\n",
      "CONVERTING: /Users/lukasiwei/Desktop/dsi25-workspace/Projects/capstone_project/audio/tracks/118.m4a\n",
      "CONVERTING: /Users/lukasiwei/Desktop/dsi25-workspace/Projects/capstone_project/audio/tracks/27.m4a\n",
      "CONVERTING: /Users/lukasiwei/Desktop/dsi25-workspace/Projects/capstone_project/audio/tracks/33.m4a\n",
      "CONVERTING: /Users/lukasiwei/Desktop/dsi25-workspace/Projects/capstone_project/audio/tracks/32.m4a\n",
      "CONVERTING: /Users/lukasiwei/Desktop/dsi25-workspace/Projects/capstone_project/audio/tracks/26.m4a\n",
      "CONVERTING: /Users/lukasiwei/Desktop/dsi25-workspace/Projects/capstone_project/audio/tracks/123.m4a\n",
      "CONVERTING: /Users/lukasiwei/Desktop/dsi25-workspace/Projects/capstone_project/audio/tracks/22.m4a\n",
      "CONVERTING: /Users/lukasiwei/Desktop/dsi25-workspace/Projects/capstone_project/audio/tracks/36.m4a\n",
      "CONVERTING: /Users/lukasiwei/Desktop/dsi25-workspace/Projects/capstone_project/audio/tracks/37.m4a\n",
      "CONVERTING: /Users/lukasiwei/Desktop/dsi25-workspace/Projects/capstone_project/audio/tracks/23.m4a\n",
      "CONVERTING: /Users/lukasiwei/Desktop/dsi25-workspace/Projects/capstone_project/audio/tracks/122.m4a\n",
      "CONVERTING: /Users/lukasiwei/Desktop/dsi25-workspace/Projects/capstone_project/audio/tracks/120.m4a\n",
      "CONVERTING: /Users/lukasiwei/Desktop/dsi25-workspace/Projects/capstone_project/audio/tracks/108.m4a\n",
      "CONVERTING: /Users/lukasiwei/Desktop/dsi25-workspace/Projects/capstone_project/audio/tracks/35.m4a\n",
      "CONVERTING: /Users/lukasiwei/Desktop/dsi25-workspace/Projects/capstone_project/audio/tracks/21.m4a\n",
      "ERROR CONVERTING /Users/lukasiwei/Desktop/dsi25-workspace/Projects/capstone_project/audio/tracks/20.m4a\n",
      "CONVERTING: /Users/lukasiwei/Desktop/dsi25-workspace/Projects/capstone_project/audio/tracks/34.m4a\n",
      "CONVERTING: /Users/lukasiwei/Desktop/dsi25-workspace/Projects/capstone_project/audio/tracks/109.m4a\n",
      "CONVERTING: /Users/lukasiwei/Desktop/dsi25-workspace/Projects/capstone_project/audio/tracks/121.m4a\n",
      "CONVERTING: /Users/lukasiwei/Desktop/dsi25-workspace/Projects/capstone_project/audio/tracks/90.m4a\n"
     ]
    },
    {
     "name": "stdout",
     "output_type": "stream",
     "text": [
      "CONVERTING: /Users/lukasiwei/Desktop/dsi25-workspace/Projects/capstone_project/audio/tracks/84.m4a\n",
      "CONVERTING: /Users/lukasiwei/Desktop/dsi25-workspace/Projects/capstone_project/audio/tracks/53.m4a\n",
      "CONVERTING: /Users/lukasiwei/Desktop/dsi25-workspace/Projects/capstone_project/audio/tracks/1.m4a\n",
      "CONVERTING: /Users/lukasiwei/Desktop/dsi25-workspace/Projects/capstone_project/audio/tracks/47.m4a\n",
      "CONVERTING: /Users/lukasiwei/Desktop/dsi25-workspace/Projects/capstone_project/audio/tracks/46.m4a\n",
      "CONVERTING: /Users/lukasiwei/Desktop/dsi25-workspace/Projects/capstone_project/audio/tracks/52.m4a\n",
      "CONVERTING: /Users/lukasiwei/Desktop/dsi25-workspace/Projects/capstone_project/audio/tracks/0.m4a\n",
      "CONVERTING: /Users/lukasiwei/Desktop/dsi25-workspace/Projects/capstone_project/audio/tracks/85.m4a\n",
      "CONVERTING: /Users/lukasiwei/Desktop/dsi25-workspace/Projects/capstone_project/audio/tracks/91.m4a\n",
      "CONVERTING: /Users/lukasiwei/Desktop/dsi25-workspace/Projects/capstone_project/audio/tracks/87.m4a\n",
      "CONVERTING: /Users/lukasiwei/Desktop/dsi25-workspace/Projects/capstone_project/audio/tracks/93.m4a\n",
      "CONVERTING: /Users/lukasiwei/Desktop/dsi25-workspace/Projects/capstone_project/audio/tracks/44.m4a\n",
      "CONVERTING: /Users/lukasiwei/Desktop/dsi25-workspace/Projects/capstone_project/audio/tracks/2.m4a\n",
      "CONVERTING: /Users/lukasiwei/Desktop/dsi25-workspace/Projects/capstone_project/audio/tracks/50.m4a\n",
      "CONVERTING: /Users/lukasiwei/Desktop/dsi25-workspace/Projects/capstone_project/audio/tracks/78.m4a\n",
      "CONVERTING: /Users/lukasiwei/Desktop/dsi25-workspace/Projects/capstone_project/audio/tracks/79.m4a\n",
      "CONVERTING: /Users/lukasiwei/Desktop/dsi25-workspace/Projects/capstone_project/audio/tracks/3.m4a\n",
      "CONVERTING: /Users/lukasiwei/Desktop/dsi25-workspace/Projects/capstone_project/audio/tracks/51.m4a\n",
      "CONVERTING: /Users/lukasiwei/Desktop/dsi25-workspace/Projects/capstone_project/audio/tracks/45.m4a\n",
      "CONVERTING: /Users/lukasiwei/Desktop/dsi25-workspace/Projects/capstone_project/audio/tracks/92.m4a\n",
      "CONVERTING: /Users/lukasiwei/Desktop/dsi25-workspace/Projects/capstone_project/audio/tracks/86.m4a\n",
      "CONVERTING: /Users/lukasiwei/Desktop/dsi25-workspace/Projects/capstone_project/audio/tracks/82.m4a\n",
      "CONVERTING: /Users/lukasiwei/Desktop/dsi25-workspace/Projects/capstone_project/audio/tracks/96.m4a\n",
      "CONVERTING: /Users/lukasiwei/Desktop/dsi25-workspace/Projects/capstone_project/audio/tracks/69.m4a\n",
      "CONVERTING: /Users/lukasiwei/Desktop/dsi25-workspace/Projects/capstone_project/audio/tracks/41.m4a\n",
      "CONVERTING: /Users/lukasiwei/Desktop/dsi25-workspace/Projects/capstone_project/audio/tracks/55.m4a\n",
      "CONVERTING: /Users/lukasiwei/Desktop/dsi25-workspace/Projects/capstone_project/audio/tracks/7.m4a\n",
      "CONVERTING: /Users/lukasiwei/Desktop/dsi25-workspace/Projects/capstone_project/audio/tracks/54.m4a\n",
      "CONVERTING: /Users/lukasiwei/Desktop/dsi25-workspace/Projects/capstone_project/audio/tracks/6.m4a\n",
      "CONVERTING: /Users/lukasiwei/Desktop/dsi25-workspace/Projects/capstone_project/audio/tracks/40.m4a\n",
      "CONVERTING: /Users/lukasiwei/Desktop/dsi25-workspace/Projects/capstone_project/audio/tracks/68.m4a\n",
      "CONVERTING: /Users/lukasiwei/Desktop/dsi25-workspace/Projects/capstone_project/audio/tracks/97.m4a\n",
      "CONVERTING: /Users/lukasiwei/Desktop/dsi25-workspace/Projects/capstone_project/audio/tracks/83.m4a\n",
      "CONVERTING: /Users/lukasiwei/Desktop/dsi25-workspace/Projects/capstone_project/audio/tracks/95.m4a\n",
      "CONVERTING: /Users/lukasiwei/Desktop/dsi25-workspace/Projects/capstone_project/audio/tracks/81.m4a\n",
      "CONVERTING: /Users/lukasiwei/Desktop/dsi25-workspace/Projects/capstone_project/audio/tracks/4.m4a\n",
      "CONVERTING: /Users/lukasiwei/Desktop/dsi25-workspace/Projects/capstone_project/audio/tracks/56.m4a\n",
      "CONVERTING: /Users/lukasiwei/Desktop/dsi25-workspace/Projects/capstone_project/audio/tracks/42.m4a\n",
      "CONVERTING: /Users/lukasiwei/Desktop/dsi25-workspace/Projects/capstone_project/audio/tracks/43.m4a\n",
      "CONVERTING: /Users/lukasiwei/Desktop/dsi25-workspace/Projects/capstone_project/audio/tracks/57.m4a\n",
      "CONVERTING: /Users/lukasiwei/Desktop/dsi25-workspace/Projects/capstone_project/audio/tracks/80.m4a\n",
      "CONVERTING: /Users/lukasiwei/Desktop/dsi25-workspace/Projects/capstone_project/audio/tracks/94.m4a\n"
     ]
    }
   ],
   "source": [
    "formats_to_convert = ['.m4a']\n",
    "\n",
    "for (dirpath, dirnames, filenames) in os.walk(folder):\n",
    "    for filename in filenames:\n",
    "        if filename.endswith(tuple(formats_to_convert)):\n",
    "\n",
    "            filepath = dirpath + '/' + filename\n",
    "            (path, file_extension) = os.path.splitext(filepath)\n",
    "            file_extension_final = file_extension.replace('.', '')\n",
    "            try:\n",
    "                track = AudioSegment.from_file(filepath,\n",
    "                        file_extension_final)\n",
    "                wav_filename = filename.replace(file_extension_final, 'wav')\n",
    "                wav_path = dirpath + '/' + wav_filename\n",
    "                print('CONVERTING: ' + str(filepath))\n",
    "                file_handle = track.export(wav_path, format='wav')\n",
    "                os.remove(filepath)\n",
    "            except:\n",
    "                print(\"ERROR CONVERTING \" + str(filepath))"
   ]
  },
  {
   "cell_type": "markdown",
   "id": "c4a0813a",
   "metadata": {},
   "source": [
    "### Concatenate tracks"
   ]
  },
  {
   "cell_type": "code",
   "execution_count": 2,
   "id": "af8eaaa7",
   "metadata": {},
   "outputs": [],
   "source": [
    "# there seems to be a limit to how large/long a concatenated track can be\n",
    "# a dead kernel results once the limit is reached\n",
    "# additionally, the maximum duration limit for google speech-to-text API is also 480 mins\n",
    "# hence, the tracks are being concatenated into 7 tracks\n",
    "tracks_1 = \"/Users/lukasiwei/Desktop/dsi25-workspace/Projects/capstone_project/audio/tracks1/\"\n",
    "tracks_2 = \"/Users/lukasiwei/Desktop/dsi25-workspace/Projects/capstone_project/audio/tracks2/\"\n",
    "tracks_3 = \"/Users/lukasiwei/Desktop/dsi25-workspace/Projects/capstone_project/audio/tracks3/\"\n",
    "tracks_4 = \"/Users/lukasiwei/Desktop/dsi25-workspace/Projects/capstone_project/audio/tracks4/\"\n",
    "tracks_5 = \"/Users/lukasiwei/Desktop/dsi25-workspace/Projects/capstone_project/audio/tracks5/\"\n",
    "tracks_6 = \"/Users/lukasiwei/Desktop/dsi25-workspace/Projects/capstone_project/audio/tracks6/\"\n",
    "tracks_7 = \"/Users/lukasiwei/Desktop/dsi25-workspace/Projects/capstone_project/audio/tracks7/\""
   ]
  },
  {
   "cell_type": "code",
   "execution_count": 3,
   "id": "a4606dc0",
   "metadata": {},
   "outputs": [],
   "source": [
    "# tracks_1\n",
    "filenames = glob.glob(tracks_1+'*.wav')\n",
    "combined_1 = AudioSegment.empty()\n",
    "for filename in filenames:\n",
    "    audiofilename = AudioSegment.from_wav(filename)\n",
    "    \n",
    "    combined_1 += audiofilename"
   ]
  },
  {
   "cell_type": "code",
   "execution_count": 4,
   "id": "7072e179",
   "metadata": {},
   "outputs": [],
   "source": [
    "# tracks_2\n",
    "filenames = glob.glob(tracks_2+'*.wav')\n",
    "combined_2 = AudioSegment.empty()\n",
    "for filename in filenames:\n",
    "    audiofilename = AudioSegment.from_wav(filename)\n",
    "    \n",
    "    combined_2 += audiofilename"
   ]
  },
  {
   "cell_type": "code",
   "execution_count": 5,
   "id": "51ec2100",
   "metadata": {},
   "outputs": [],
   "source": [
    "# tracks_3\n",
    "filenames = glob.glob(tracks_3+'*.wav')\n",
    "combined_3 = AudioSegment.empty()\n",
    "for filename in filenames:\n",
    "    audiofilename = AudioSegment.from_wav(filename)\n",
    "    \n",
    "    combined_3 += audiofilename"
   ]
  },
  {
   "cell_type": "code",
   "execution_count": 6,
   "id": "bb7e53de",
   "metadata": {},
   "outputs": [],
   "source": [
    "# tracks_4\n",
    "filenames = glob.glob(tracks_4+'*.wav')\n",
    "combined_4 = AudioSegment.empty()\n",
    "for filename in filenames:\n",
    "    audiofilename = AudioSegment.from_wav(filename)\n",
    "    \n",
    "    combined_4 += audiofilename"
   ]
  },
  {
   "cell_type": "code",
   "execution_count": 7,
   "id": "9ded031e",
   "metadata": {},
   "outputs": [],
   "source": [
    "# tracks_5\n",
    "filenames = glob.glob(tracks_5+'*.wav')\n",
    "combined_5 = AudioSegment.empty()\n",
    "for filename in filenames:\n",
    "    audiofilename = AudioSegment.from_wav(filename)\n",
    "    \n",
    "    combined_5 += audiofilename"
   ]
  },
  {
   "cell_type": "code",
   "execution_count": 8,
   "id": "cbeec7f5",
   "metadata": {},
   "outputs": [],
   "source": [
    "# tracks_6\n",
    "filenames = glob.glob(tracks_6+'*.wav')\n",
    "combined_6 = AudioSegment.empty()\n",
    "for filename in filenames:\n",
    "    audiofilename = AudioSegment.from_wav(filename)\n",
    "    \n",
    "    combined_6 += audiofilename"
   ]
  },
  {
   "cell_type": "code",
   "execution_count": 9,
   "id": "9fad9a9c",
   "metadata": {},
   "outputs": [],
   "source": [
    "# tracks_7\n",
    "filenames = glob.glob(tracks_7+'*.wav')\n",
    "combined_7 = AudioSegment.empty()\n",
    "for filename in filenames:\n",
    "    audiofilename = AudioSegment.from_wav(filename)\n",
    "    \n",
    "    combined_7 += audiofilename"
   ]
  },
  {
   "cell_type": "markdown",
   "id": "dfd26c68",
   "metadata": {},
   "source": [
    "### Split stereo into mono channels"
   ]
  },
  {
   "cell_type": "code",
   "execution_count": 10,
   "id": "6dd64ac2",
   "metadata": {},
   "outputs": [],
   "source": [
    "audio_1 = combined_1.set_channels(1)"
   ]
  },
  {
   "cell_type": "code",
   "execution_count": 11,
   "id": "8a32da7b",
   "metadata": {},
   "outputs": [],
   "source": [
    "audio_2 = combined_2.set_channels(1)"
   ]
  },
  {
   "cell_type": "code",
   "execution_count": 12,
   "id": "7c436082",
   "metadata": {},
   "outputs": [],
   "source": [
    "audio_3 = combined_3.set_channels(1)"
   ]
  },
  {
   "cell_type": "code",
   "execution_count": 13,
   "id": "d82ad4f3",
   "metadata": {},
   "outputs": [],
   "source": [
    "audio_4 = combined_4.set_channels(1)"
   ]
  },
  {
   "cell_type": "code",
   "execution_count": 14,
   "id": "681379b9",
   "metadata": {},
   "outputs": [],
   "source": [
    "audio_5 = combined_5.set_channels(1)"
   ]
  },
  {
   "cell_type": "code",
   "execution_count": 15,
   "id": "754fc215",
   "metadata": {},
   "outputs": [],
   "source": [
    "audio_6 = combined_6.set_channels(1)"
   ]
  },
  {
   "cell_type": "code",
   "execution_count": 16,
   "id": "81abe1db",
   "metadata": {},
   "outputs": [],
   "source": [
    "audio_7 = combined_7.set_channels(1)"
   ]
  },
  {
   "cell_type": "code",
   "execution_count": 17,
   "id": "220e3e31",
   "metadata": {},
   "outputs": [
    {
     "name": "stdout",
     "output_type": "stream",
     "text": [
      "Channels: 1\n"
     ]
    }
   ],
   "source": [
    "# check number of channels \n",
    "print(\"Channels:\", audio_7.channels)"
   ]
  },
  {
   "cell_type": "code",
   "execution_count": 18,
   "id": "3d332efc",
   "metadata": {
    "scrolled": true
   },
   "outputs": [
    {
     "name": "stdout",
     "output_type": "stream",
     "text": [
      "audio_1\n",
      "\n",
      "Channels: 1\n",
      "Bits per sample: 16\n",
      "Sampling frequency: 44100\n",
      "Length: 26060.544580498867 seconds\n",
      "\n",
      "audio_2\n",
      "\n",
      "Channels: 1\n",
      "Bits per sample: 16\n",
      "Sampling frequency: 44100\n",
      "Length: 26039.437641723354 seconds\n",
      "\n",
      "audio_3\n",
      "\n",
      "Channels: 1\n",
      "Bits per sample: 16\n",
      "Sampling frequency: 44100\n",
      "Length: 20768.716916099773 seconds\n",
      "\n",
      "audio_4\n",
      "\n",
      "Channels: 1\n",
      "Bits per sample: 16\n",
      "Sampling frequency: 44100\n",
      "Length: 26636.817414965986 seconds\n",
      "\n",
      "audio_5\n",
      "\n",
      "Channels: 1\n",
      "Bits per sample: 16\n",
      "Sampling frequency: 44100\n",
      "Length: 16475.486621315194 seconds\n",
      "\n",
      "audio_6\n",
      "\n",
      "Channels: 1\n",
      "Bits per sample: 16\n",
      "Sampling frequency: 44100\n",
      "Length: 22676.07365079365 seconds\n",
      "\n",
      "audio_7\n",
      "\n",
      "Channels: 1\n",
      "Bits per sample: 16\n",
      "Sampling frequency: 44100\n",
      "Length: 22072.23873015873 seconds\n"
     ]
    }
   ],
   "source": [
    "# check specs and duration (<28800s)\n",
    "print('audio_1')\n",
    "print('\\nChannels:', audio_1.channels)\n",
    "print(\"Bits per sample:\", audio_1.sample_width * 8)\n",
    "print(\"Sampling frequency:\", audio_1.frame_rate)\n",
    "print(\"Length:\", audio_1.duration_seconds, \"seconds\")\n",
    "\n",
    "print('\\naudio_2')\n",
    "print('\\nChannels:', audio_2.channels)\n",
    "print(\"Bits per sample:\", audio_2.sample_width * 8)\n",
    "print(\"Sampling frequency:\", audio_2.frame_rate)\n",
    "print(\"Length:\", audio_2.duration_seconds, \"seconds\")\n",
    "\n",
    "print('\\naudio_3')\n",
    "print('\\nChannels:', audio_3.channels)\n",
    "print(\"Bits per sample:\", audio_3.sample_width * 8)\n",
    "print(\"Sampling frequency:\", audio_3.frame_rate)\n",
    "print(\"Length:\", audio_3.duration_seconds, \"seconds\")\n",
    "\n",
    "print('\\naudio_4')\n",
    "print('\\nChannels:', audio_4.channels)\n",
    "print(\"Bits per sample:\", audio_4.sample_width * 8)\n",
    "print(\"Sampling frequency:\", audio_4.frame_rate)\n",
    "print(\"Length:\", audio_4.duration_seconds, \"seconds\")\n",
    "\n",
    "print('\\naudio_5')\n",
    "print('\\nChannels:', audio_5.channels)\n",
    "print(\"Bits per sample:\", audio_5.sample_width * 8)\n",
    "print(\"Sampling frequency:\", audio_5.frame_rate)\n",
    "print(\"Length:\", audio_5.duration_seconds, \"seconds\")\n",
    "\n",
    "print('\\naudio_6')\n",
    "print('\\nChannels:', audio_6.channels)\n",
    "print(\"Bits per sample:\", audio_6.sample_width * 8)\n",
    "print(\"Sampling frequency:\", audio_6.frame_rate)\n",
    "print(\"Length:\", audio_6.duration_seconds, \"seconds\")\n",
    "\n",
    "print('\\naudio_7')\n",
    "print('\\nChannels:', audio_7.channels)\n",
    "print(\"Bits per sample:\", audio_7.sample_width * 8)\n",
    "print(\"Sampling frequency:\", audio_7.frame_rate)\n",
    "print(\"Length:\", audio_7.duration_seconds, \"seconds\")"
   ]
  },
  {
   "cell_type": "markdown",
   "id": "754c614a",
   "metadata": {},
   "source": [
    "### Export"
   ]
  },
  {
   "cell_type": "code",
   "execution_count": 22,
   "id": "c8be6370",
   "metadata": {},
   "outputs": [
    {
     "data": {
      "text/plain": [
       "<_io.BufferedRandom name='/Volumes/CCC Gold X/audio/CONCAT/audio_1.wav'>"
      ]
     },
     "execution_count": 22,
     "metadata": {},
     "output_type": "execute_result"
    }
   ],
   "source": [
    "audio_1.export(\n",
    "    \"/Volumes/CCC Gold X/audio/CONCAT/audio_1.wav\",\n",
    "    format=\"wav\")"
   ]
  },
  {
   "cell_type": "code",
   "execution_count": 23,
   "id": "84e49434",
   "metadata": {},
   "outputs": [
    {
     "data": {
      "text/plain": [
       "<_io.BufferedRandom name='/Volumes/CCC Gold X/audio/CONCAT/audio_2.wav'>"
      ]
     },
     "execution_count": 23,
     "metadata": {},
     "output_type": "execute_result"
    }
   ],
   "source": [
    "audio_2.export(\n",
    "    \"/Volumes/CCC Gold X/audio/CONCAT/audio_2.wav\",\n",
    "    format=\"wav\")"
   ]
  },
  {
   "cell_type": "code",
   "execution_count": 24,
   "id": "7edba344",
   "metadata": {},
   "outputs": [
    {
     "data": {
      "text/plain": [
       "<_io.BufferedRandom name='/Volumes/CCC Gold X/audio/CONCAT/audio_3.wav'>"
      ]
     },
     "execution_count": 24,
     "metadata": {},
     "output_type": "execute_result"
    }
   ],
   "source": [
    "audio_3.export(\n",
    "    \"/Volumes/CCC Gold X/audio/CONCAT/audio_3.wav\",\n",
    "    format=\"wav\")"
   ]
  },
  {
   "cell_type": "code",
   "execution_count": 25,
   "id": "1d924274",
   "metadata": {},
   "outputs": [
    {
     "data": {
      "text/plain": [
       "<_io.BufferedRandom name='/Volumes/CCC Gold X/audio/CONCAT/audio_4.wav'>"
      ]
     },
     "execution_count": 25,
     "metadata": {},
     "output_type": "execute_result"
    }
   ],
   "source": [
    "audio_4.export(\n",
    "    \"/Volumes/CCC Gold X/audio/CONCAT/audio_4.wav\",\n",
    "    format=\"wav\")"
   ]
  },
  {
   "cell_type": "code",
   "execution_count": 26,
   "id": "d9fe405e",
   "metadata": {},
   "outputs": [
    {
     "data": {
      "text/plain": [
       "<_io.BufferedRandom name='/Volumes/CCC Gold X/audio/CONCAT/audio_5.wav'>"
      ]
     },
     "execution_count": 26,
     "metadata": {},
     "output_type": "execute_result"
    }
   ],
   "source": [
    "audio_5.export(\n",
    "    \"/Volumes/CCC Gold X/audio/CONCAT/audio_5.wav\",\n",
    "    format=\"wav\")"
   ]
  },
  {
   "cell_type": "code",
   "execution_count": 27,
   "id": "c6c6e46e",
   "metadata": {},
   "outputs": [
    {
     "data": {
      "text/plain": [
       "<_io.BufferedRandom name='/Volumes/CCC Gold X/audio/CONCAT/audio_6.wav'>"
      ]
     },
     "execution_count": 27,
     "metadata": {},
     "output_type": "execute_result"
    }
   ],
   "source": [
    "audio_6.export(\n",
    "    \"/Volumes/CCC Gold X/audio/CONCAT/audio_6.wav\",\n",
    "    format=\"wav\")"
   ]
  },
  {
   "cell_type": "code",
   "execution_count": 28,
   "id": "5c49cd94",
   "metadata": {},
   "outputs": [
    {
     "data": {
      "text/plain": [
       "<_io.BufferedRandom name='/Volumes/CCC Gold X/audio/CONCAT/audio_7.wav'>"
      ]
     },
     "execution_count": 28,
     "metadata": {},
     "output_type": "execute_result"
    }
   ],
   "source": [
    "audio_7.export(\n",
    "    \"/Volumes/CCC Gold X/audio/CONCAT/audio_7.wav\",\n",
    "    format=\"wav\")"
   ]
  },
  {
   "cell_type": "markdown",
   "id": "5e313e81",
   "metadata": {},
   "source": [
    "## Upload to GCP Speech-To-Text API"
   ]
  },
  {
   "cell_type": "markdown",
   "id": "088bc891",
   "metadata": {},
   "source": [
    "The 7 audio tracks were uploaded to a [Google Cloud Storage](https://cloud.google.com/storage) bucket and routed to the [Speech-to-Text API](https://cloud.google.com/speech-to-text) with the default settings through the GCP Console. The transcripts were output to a new bucket in Google Cloud Storage overnight and retrieved manually to form the text corpus for the project."
   ]
  },
  {
   "cell_type": "markdown",
   "id": "d4cfcfb6",
   "metadata": {},
   "source": [
    "![gcp_speechtotext](../media/gcp_speechtotext.png)"
   ]
  },
  {
   "cell_type": "markdown",
   "id": "9376e061",
   "metadata": {},
   "source": [
    "Fig. 1: List of completed transcription on GCP Speech-to_text API"
   ]
  },
  {
   "cell_type": "markdown",
   "id": "31df0f54",
   "metadata": {},
   "source": [
    "![gcp_transcript](../media/gcp_transcripts.png)"
   ]
  },
  {
   "cell_type": "markdown",
   "id": "acc3b9a0",
   "metadata": {},
   "source": [
    "Fig. 2: Example of transcripted audio track"
   ]
  }
 ],
 "metadata": {
  "kernelspec": {
   "display_name": "Python 3",
   "language": "python",
   "name": "python3"
  },
  "language_info": {
   "codemirror_mode": {
    "name": "ipython",
    "version": 3
   },
   "file_extension": ".py",
   "mimetype": "text/x-python",
   "name": "python",
   "nbconvert_exporter": "python",
   "pygments_lexer": "ipython3",
   "version": "3.8.8"
  }
 },
 "nbformat": 4,
 "nbformat_minor": 5
}
